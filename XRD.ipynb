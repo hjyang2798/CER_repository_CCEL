{
 "cells": [
  {
   "cell_type": "code",
   "execution_count": 2,
   "id": "aae8fd46",
   "metadata": {},
   "outputs": [],
   "source": [
    "import numpy as np\n",
    "import pandas as pd\n",
    "import matplotlib.pyplot as plt\n",
    "import matplotlib.font_manager as fm\n",
    "\n",
    "font_text= fm.FontProperties(fname='C:\\Windows\\Fonts/segoeui.ttf',size=24,weight = 'bold')\n",
    "\n",
    "font_labels = fm.FontProperties(fname='C:\\Windows\\Fonts/segoeui.ttf',size=16,weight = 'bold')\n",
    "font_ticks = fm.FontProperties(fname='C:\\Windows\\Fonts/segoeui.ttf',size=14)\n",
    "\n",
    "c= ['#02DAA2','#00b3fe','#0E8BB3','#120458'][::-1]\n",
    "\n",
    "#font2 = fm.FontProperties(fname='C:\\Windows\\Fonts/NanumSquareOTF_acR.otf',size=14)\n",
    "\n",
    "\n",
    "def XRD(name_file,color,name) :\n",
    "    \n",
    "    f_XRD = open(name_file,'r')\n",
    "    lines = f_XRD.readlines()\n",
    "    XRD = list()\n",
    "    for i,line in enumerate(lines):\n",
    "        line = line.split()  # 줄 끝의 줄 바꿈 문자를 제거한다.\n",
    "        XRD.append(line)\n",
    "    f_XRD.close()\n",
    "    XRD = XRD[902:7903]\n",
    "    \n",
    "    df_XRD = pd.DataFrame(XRD)\n",
    "    df_XRD.columns = ['2θ','Intensity','what?']\n",
    "    \n",
    "    fig,ax  = plt.subplots(figsize=(8,6))\n",
    "\n",
    "\n",
    "    degree=df_XRD['2θ']\n",
    "    degree= list(map(float,degree))\n",
    "    intensity = df_XRD['Intensity']\n",
    "    intensity= list(map(float,intensity))\n",
    "\n",
    "    \n",
    "    ax.plot(degree,intensity,c=color,linewidth=2)\n",
    "\n",
    "\n",
    "    ax.set_yticks([])\n",
    "    ax.set_xticks(np.arange(10,81,10))\n",
    "    plt.xticks(fontproperties=font_ticks)\n",
    "    ax.set_xlabel(\"2θ (degree)\", fontproperties=font_labels)\n",
    "    ax.set_ylabel(\"Intensity\", fontproperties=font_labels)\n",
    "\n",
    "    ax.set_xlim([10,80])\n",
    "    \n",
    "    ax.text(12,95,name,fontproperties=font_text)\n",
    "    \n",
    "    \n",
    "\n",
    "    "
   ]
  },
  {
   "cell_type": "code",
   "execution_count": 3,
   "id": "1608b005",
   "metadata": {},
   "outputs": [
    {
     "data": {
      "image/png": "[encoded data removed]",
      "text/plain": [
       "<Figure size 576x432 with 1 Axes>"
      ]
     },
     "metadata": {
      "needs_background": "light"
     },
     "output_type": "display_data"
    }
   ],
   "source": [
    "XRD('POSCAR.int',c[3],'POSCAR')"
   ]
  }
 ],
 "metadata": {
  "kernelspec": {
   "display_name": "Python 3",
   "language": "python",
   "name": "python3"
  },
  "language_info": {
   "codemirror_mode": {
    "name": "ipython",
    "version": 3
   },
   "file_extension": ".py",
   "mimetype": "text/x-python",
   "name": "python",
   "nbconvert_exporter": "python",
   "pygments_lexer": "ipython3",
   "version": "3.8.8"
  }
 },
 "nbformat": 4,
 "nbformat_minor": 5
}
