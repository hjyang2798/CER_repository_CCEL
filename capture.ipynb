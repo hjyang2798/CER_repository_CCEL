{
 "cells": [
  {
   "cell_type": "code",
   "execution_count": 28,
   "id": "0e1aa1b9",
   "metadata": {},
   "outputs": [],
   "source": [
    "from ase.io import (read, write)\n",
    "import os\n",
    "from pathlib import Path\n",
    "import numpy as np"
   ]
  },
  {
   "cell_type": "code",
   "execution_count": 50,
   "id": "b470abc3",
   "metadata": {},
   "outputs": [],
   "source": [
    "def capture(path1,path2,M,N,adsorbate) :\n",
    "    slab = read(path1+'CONTCAR',format='vasp')\n",
    "    \n",
    "    #directory\n",
    "    \n",
    "    #os.mkdir(path1[:-2])\n",
    "    print(path1[:-2])\n",
    "    \n",
    "    write(path2+M+N+'C+'+adsorbate+'.png', slab * (2, 2, 1))\n",
    "\n",
    "    \n",
    "    \n",
    "    \n",
    "    "
   ]
  },
  {
   "cell_type": "code",
   "execution_count": 51,
   "id": "3c43f0e7",
   "metadata": {},
   "outputs": [
    {
     "name": "stdout",
     "output_type": "stream",
     "text": [
      "/home/hjyang/0_code/sqs/1_N4/3_O/\n",
      "/home/hjyang/0_code/sqs/1_N4/3_O/\n",
      "/home/hjyang/0_code/sqs/1_N4/3_O/\n",
      "/home/hjyang/0_code/sqs/1_N4/3_O/\n"
     ]
    }
   ],
   "source": [
    "N_p = ['1_N4']\n",
    "adsorbate_p = ['3_O']\n",
    "M_p = [str(2),str(3),str(4),str(5)]\n",
    "\n",
    "M = ['Al','Co','Ni','Os']\n",
    "N = ['N4']\n",
    "adsorbate=['O']\n",
    "path = os.getcwd()\n",
    "\n",
    "os.mkdir(path+'/images/')\n",
    "\n",
    "for i in range(len(N_p)) :\n",
    "    os.mkdir(path+'/images/'+N_p[i])\n",
    "    \n",
    "    for j in range(len(adsorbate_p)) :\n",
    "        os.mkdir(path+'/images/'+N_p[i]+'/'+adsorbate_p[j]+'/')\n",
    "        path2 = path+'/images/'+N_p[i]+'/'+adsorbate_p[j]+'/'\n",
    "        for k in range(len(M_p)) :\n",
    "  \n",
    "            path1 = path+'/'+N_p[i]+'/'+adsorbate_p[j]+'/'+M_p[k]+'/'\n",
    "            \n",
    "\n",
    "\n",
    "            capture(path1,path2,M[k],N[i],adsorbate[j])"
   ]
  },
  {
   "cell_type": "code",
   "execution_count": null,
   "id": "5596c862",
   "metadata": {},
   "outputs": [],
   "source": [
    "N_p = ['1_N4','2_N3','3_N2','4_N2t','5_N1','6_N1_far', '7_N0']\n",
    "adsorbate_p = ['2_Cl','3_O',  '4_OH',  '5_OOH']\n",
    "M_p = ['2' , '3' , '4' , '5' , '6' , '8' , '9' ,'10' , '13' , '14' , '15' , '16'  ]\n",
    "\n",
    "M = ['Mn' , 'Fe' , 'Co' , 'Ni' , 'Cu' , 'Rh' , 'Pd' ,'Ag' , 'Ir' , 'Pt' , 'Au' , 'Cr'  ]\n",
    "N = ['N4','N3','N2','N2-t','N1','N1-f','N0']\n",
    "adsorbate=['Cl','O','OH','OOH']\n",
    "\n",
    "path = os.getcwd()\n",
    "\n",
    "os.mkdir(path+'/images/')\n",
    "\n",
    "for i in range(len(N_p)) :\n",
    "    os.mkdir(path+'/images/'+N_p[i])\n",
    "    \n",
    "    for j in range(len(adsorbate_p)) :\n",
    "        os.mkdir(path+'/images/'+N_p[i]+'/'+adsorbate_p[j]+'/')\n",
    "        path2 = path+'/images/'+N_p[i]+'/'+adsorbate_p[j]+'/'\n",
    "        for k in range(len(M_p)) :\n",
    "  \n",
    "            path1 = path+'/'+N_p[i]+'/'+adsorbate_p[j]+'/'+M_p[k]+'/'\n",
    "            \n",
    "\n",
    "\n",
    "            capture(path1,path2,M[k],N[i],adsorbate[j])"
   ]
  }
 ],
 "metadata": {
  "kernelspec": {
   "display_name": "Python 3",
   "language": "python",
   "name": "python3"
  },
  "language_info": {
   "codemirror_mode": {
    "name": "ipython",
    "version": 3
   },
   "file_extension": ".py",
   "mimetype": "text/x-python",
   "name": "python",
   "nbconvert_exporter": "python",
   "pygments_lexer": "ipython3",
   "version": "3.8.8"
  }
 },
 "nbformat": 4,
 "nbformat_minor": 5
}
